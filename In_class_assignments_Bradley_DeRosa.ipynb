{
  "cells": [
    {
      "cell_type": "markdown",
      "metadata": {
        "id": "view-in-github",
        "colab_type": "text"
      },
      "source": [
        "<a href=\"https://colab.research.google.com/github/bderosa06/BTE320-In-Class-Assignments/blob/main/In_class_assignments_Bradley_DeRosa.ipynb\" target=\"_parent\"><img src=\"https://colab.research.google.com/assets/colab-badge.svg\" alt=\"Open In Colab\"/></a>"
      ]
    },
    {
      "cell_type": "code",
      "execution_count": null,
      "metadata": {
        "colab": {
          "base_uri": "https://localhost:8080/"
        },
        "id": "A0io5ffbkLXn",
        "outputId": "e380b6c4-5fa6-4d56-f654-24ebc41609a2"
      },
      "outputs": [
        {
          "name": "stdout",
          "output_type": "stream",
          "text": [
            "244.92000000000002\n"
          ]
        }
      ],
      "source": [
        "pi = 3.14\n",
        "r = 3\n",
        "h = 10\n",
        "\n",
        "Area = 2*pi*r*r + 2*pi*r*h\n",
        "print(Area)"
      ]
    },
    {
      "cell_type": "code",
      "execution_count": null,
      "metadata": {
        "colab": {
          "background_save": true,
          "base_uri": "https://localhost:8080/"
        },
        "id": "70Pf0gqWsWhI",
        "outputId": "b1e5ae71-8184-4992-8790-d6f53c80a004"
      },
      "outputs": [
        {
          "name": "stdout",
          "output_type": "stream",
          "text": [
            "p1 wins\n"
          ]
        }
      ],
      "source": [
        "import random\n",
        "play_the_game = input('Do you want to play? Yes or no: ')\n",
        "while play_the_game == 'Yes' :\n",
        "\n",
        "  p1 = input(\"choose rock, paper, scissors: \")\n",
        "  p2 = random.choice(['rock','paper','scissors'])\n",
        "\n",
        "  if p1==p2:\n",
        "    print('Draw')\n",
        "\n",
        "  elif p1=='rock' and p2=='scissors':\n",
        "    print('p1 wins')\n",
        "\n",
        "  elif p1=='rock' and p2=='paper':\n",
        "    print('p2 wins')\n",
        "\n",
        "  elif p1=='paper' and p2=='rock':\n",
        "    print('p1 wins')\n",
        "\n",
        "  elif p1=='paper' and p2=='scissors':\n",
        "    print('p2 wins')\n",
        "\n",
        "  elif p1=='scissors' and p2=='rock':\n",
        "    print('p2 wins')\n",
        "\n",
        "  elif p1=='scissors' and p2=='paper':\n",
        "    print('p1 wins')\n",
        "\n",
        "  play_the_game == input('Do you want to play? Yes or no: ')\n",
        "\n"
      ]
    },
    {
      "cell_type": "code",
      "execution_count": null,
      "metadata": {
        "colab": {
          "base_uri": "https://localhost:8080/"
        },
        "id": "qmwAQo_X5ACk",
        "outputId": "d380c8a8-2d5b-4779-9b97-95b069693278"
      },
      "outputs": [
        {
          "name": "stdout",
          "output_type": "stream",
          "text": [
            "Number: 4\n",
            "Number: 5\n",
            "Operation (+, -, *, /, **): +\n",
            "9.0\n"
          ]
        }
      ],
      "source": [
        "N1= float(input(\"Number: \"))\n",
        "N2= float(input(\"Number: \"))\n",
        "Symbol = input('Operation (+, -, *, /, **): ')\n",
        "\n",
        "if(Symbol=='+'):\n",
        "  print(N1+N2)\n",
        "\n",
        "elif(Symbol=='-'):\n",
        "  print(N1-N2)\n",
        "\n",
        "elif(Symbol=='*'):\n",
        "  print(N1*N2)\n",
        "\n",
        "elif(Symbol=='/'):\n",
        "  print(N1/N2)\n",
        "\n",
        "elif(Symbol=='**'):\n",
        "  print(N1**N2)"
      ]
    },
    {
      "cell_type": "code",
      "source": [
        "flat_rate =5\n",
        "hourly_rate =2.5\n",
        "\n",
        "for h in range (1,9):\n",
        "  charge = flat_rate + hourly_rate*h\n",
        "  if charge < 10:\n",
        "    charge = 10\n",
        "  elif charge > 20:\n",
        "    charge = 20\n",
        "  print(h,charge)\n",
        "\n"
      ],
      "metadata": {
        "colab": {
          "base_uri": "https://localhost:8080/"
        },
        "id": "boCwW_Oc84KZ",
        "outputId": "95259bc6-2fae-46d8-bc10-44d9c8983441"
      },
      "execution_count": null,
      "outputs": [
        {
          "output_type": "stream",
          "name": "stdout",
          "text": [
            "1 10\n",
            "2 10.0\n",
            "3 12.5\n",
            "4 15.0\n",
            "5 17.5\n",
            "6 20.0\n",
            "7 20\n",
            "8 20\n"
          ]
        }
      ]
    },
    {
      "cell_type": "code",
      "source": [
        "ticket_price= 10\n",
        "fixed_cost= 200\n",
        "fixedattendees= 20\n",
        "\n",
        "for ad in range(0,225,25):\n",
        "  additionalattendees = round (2 * ad ** 0.5)\n",
        "  profit = (fixedattendees + additionalattendees)*ticket_price - ad - fixed_cost\n",
        "  print(ad,profit)"
      ],
      "metadata": {
        "colab": {
          "base_uri": "https://localhost:8080/"
        },
        "id": "Ygdzs1NFDNl0",
        "outputId": "291f785c-f606-4154-8d82-c6828300a543"
      },
      "execution_count": null,
      "outputs": [
        {
          "output_type": "stream",
          "name": "stdout",
          "text": [
            "0 0\n",
            "25 75\n",
            "50 90\n",
            "75 95\n",
            "100 100\n",
            "125 95\n",
            "150 90\n",
            "175 85\n",
            "200 80\n"
          ]
        }
      ]
    },
    {
      "cell_type": "code",
      "source": [
        "L = []\n",
        "\n",
        "item = int(input('Give a value: '))\n",
        "\n",
        "while item != 0:\n",
        "  L.append(item)\n",
        "  item = int(input('Give a value: '))\n",
        "print(L)"
      ],
      "metadata": {
        "id": "JYGFXMOGKijq",
        "colab": {
          "base_uri": "https://localhost:8080/"
        },
        "outputId": "652e3487-9545-433d-f102-8ba29fe68dbc"
      },
      "execution_count": null,
      "outputs": [
        {
          "output_type": "stream",
          "name": "stdout",
          "text": [
            "Give a value: 1\n",
            "Give a value: 2\n",
            "Give a value: 5\n",
            "Give a value: 7\n",
            "Give a value: 0\n",
            "[1, 2, 5, 7]\n"
          ]
        }
      ]
    },
    {
      "cell_type": "code",
      "source": [
        "L1 = [1,2,3,4]\n",
        "L2 = [1,2,5,6]\n",
        "\n",
        "for item in L1[:]:\n",
        "  if item in L2:\n",
        "    L1.remove(item)\n",
        "\n",
        "print(L1)"
      ],
      "metadata": {
        "colab": {
          "base_uri": "https://localhost:8080/"
        },
        "id": "ayqIM2q3NP2_",
        "outputId": "9cfd3771-1e46-4ec3-9eed-4ba4df169c02"
      },
      "execution_count": null,
      "outputs": [
        {
          "output_type": "stream",
          "name": "stdout",
          "text": [
            "[3, 4]\n"
          ]
        }
      ]
    },
    {
      "cell_type": "code",
      "source": [
        "months = {}\n",
        "\n",
        "names = [\"Jan\", \"Feb\", \"Mar\", \"Apr\", \"May\", \"Jun\", \"Jul\", \"Aug\", \"Sep\", \"Oct\", \"Nov\", \"Dec\"]\n",
        "numbers = [1, 2, 3, 4, 5, 6, 7, 8, 9, 10, 11, 12]\n",
        "\n",
        "for idx in range(len(numbers)):\n",
        " months[numbers[idx]] = names[idx]\n",
        "months"
      ],
      "metadata": {
        "colab": {
          "base_uri": "https://localhost:8080/"
        },
        "id": "CLZohThH44CV",
        "outputId": "b90213e0-8be6-42da-e8f2-0b733b9c8a7a"
      },
      "execution_count": 14,
      "outputs": [
        {
          "output_type": "execute_result",
          "data": {
            "text/plain": [
              "{1: 'Jan',\n",
              " 2: 'Feb',\n",
              " 3: 'Mar',\n",
              " 4: 'Apr',\n",
              " 5: 'May',\n",
              " 6: 'Jun',\n",
              " 7: 'Jul',\n",
              " 8: 'Aug',\n",
              " 9: 'Sep',\n",
              " 10: 'Oct',\n",
              " 11: 'Nov',\n",
              " 12: 'Dec'}"
            ]
          },
          "metadata": {},
          "execution_count": 14
        }
      ]
    }
  ],
  "metadata": {
    "colab": {
      "provenance": [],
      "authorship_tag": "ABX9TyNfOulJITXl4jD92FvHZ9OJ",
      "include_colab_link": true
    },
    "kernelspec": {
      "display_name": "Python 3",
      "name": "python3"
    },
    "language_info": {
      "name": "python"
    }
  },
  "nbformat": 4,
  "nbformat_minor": 0
}