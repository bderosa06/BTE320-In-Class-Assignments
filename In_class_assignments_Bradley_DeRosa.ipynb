{
  "nbformat": 4,
  "nbformat_minor": 0,
  "metadata": {
    "colab": {
      "provenance": [],
      "authorship_tag": "ABX9TyNBjv3tA//JnzEUydFhwkXM",
      "include_colab_link": true
    },
    "kernelspec": {
      "name": "python3",
      "display_name": "Python 3"
    },
    "language_info": {
      "name": "python"
    }
  },
  "cells": [
    {
      "cell_type": "markdown",
      "metadata": {
        "id": "view-in-github",
        "colab_type": "text"
      },
      "source": [
        "<a href=\"https://colab.research.google.com/github/bderosa06/BTE320-In-Class-Assignments/blob/main/In_class_assignments_Bradley_DeRosa.ipynb\" target=\"_parent\"><img src=\"https://colab.research.google.com/assets/colab-badge.svg\" alt=\"Open In Colab\"/></a>"
      ]
    },
    {
      "cell_type": "code",
      "execution_count": null,
      "metadata": {
        "colab": {
          "base_uri": "https://localhost:8080/"
        },
        "id": "A0io5ffbkLXn",
        "outputId": "e380b6c4-5fa6-4d56-f654-24ebc41609a2"
      },
      "outputs": [
        {
          "output_type": "stream",
          "name": "stdout",
          "text": [
            "244.92000000000002\n"
          ]
        }
      ],
      "source": [
        "pi = 3.14\n",
        "r = 3\n",
        "h = 10\n",
        "\n",
        "Area = 2*pi*r*r + 2*pi*r*h\n",
        "print(Area)"
      ]
    },
    {
      "cell_type": "code",
      "source": [
        "p1 = input(\"choose rock, paper, scissors: \")\n",
        "p2 = input(\"choose rock, paper, scissors: \")\n",
        "\n",
        "if p1==p2:\n",
        "  print('Draw')\n",
        "\n",
        "elif p1=='rock' and p2=='scissors':\n",
        "  print('p1 wins')\n",
        "\n",
        "elif p1=='rock' and p2=='paper':\n",
        "  print('p2 wins')\n",
        "\n",
        "elif p1=='paper' and p2=='rock':\n",
        "  print('p1 wins')\n",
        "\n",
        "elif p1=='paper' and p2=='scissors':\n",
        "  print('p2 wins')\n",
        "\n",
        "elif p1=='scissors' and p2=='rock':\n",
        "  print('p2 wins')\n",
        "\n",
        "elif p1=='scissors' and p2=='paper':\n",
        "  print('p1 wins')\n"
      ],
      "metadata": {
        "colab": {
          "base_uri": "https://localhost:8080/"
        },
        "id": "70Pf0gqWsWhI",
        "outputId": "0894d0b5-1657-4573-a7bc-8df5f8057946"
      },
      "execution_count": null,
      "outputs": [
        {
          "output_type": "stream",
          "name": "stdout",
          "text": [
            "choose rock, paper, scissors: paper\n",
            "choose rock, paper, scissors: rock\n",
            "p1 wins\n"
          ]
        }
      ]
    },
    {
      "cell_type": "code",
      "source": [
        "N1= float(input(\"Number: \"))\n",
        "N2= float(input(\"Number: \"))\n",
        "Symbol = input('Operation (+, -, *, /, **): ')\n",
        "\n",
        "if(Symbol=='+'):\n",
        "  print(N1+N2)\n",
        "\n",
        "elif(Symbol=='-'):\n",
        "  print(N1-N2)\n",
        "\n",
        "elif(Symbol=='*'):\n",
        "  print(N1*N2)\n",
        "\n",
        "elif(Symbol=='/'):\n",
        "  print(N1/N2)\n",
        "\n",
        "elif(Symbol=='**'):\n",
        "  print(N1**N2)"
      ],
      "metadata": {
        "colab": {
          "base_uri": "https://localhost:8080/"
        },
        "id": "qmwAQo_X5ACk",
        "outputId": "d380c8a8-2d5b-4779-9b97-95b069693278"
      },
      "execution_count": 14,
      "outputs": [
        {
          "output_type": "stream",
          "name": "stdout",
          "text": [
            "Number: 4\n",
            "Number: 5\n",
            "Operation (+, -, *, /, **): +\n",
            "9.0\n"
          ]
        }
      ]
    }
  ]
}