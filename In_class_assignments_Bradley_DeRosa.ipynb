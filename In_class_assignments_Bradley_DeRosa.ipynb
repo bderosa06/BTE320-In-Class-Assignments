{
  "nbformat": 4,
  "nbformat_minor": 0,
  "metadata": {
    "colab": {
      "provenance": [],
      "authorship_tag": "ABX9TyM+pAVhun+/DNl29l1YtW6w",
      "include_colab_link": true
    },
    "kernelspec": {
      "name": "python3",
      "display_name": "Python 3"
    },
    "language_info": {
      "name": "python"
    }
  },
  "cells": [
    {
      "cell_type": "markdown",
      "metadata": {
        "id": "view-in-github",
        "colab_type": "text"
      },
      "source": [
        "<a href=\"https://colab.research.google.com/github/bderosa06/BTE320-In-Class-Assignments/blob/main/In_class_assignments_Bradley_DeRosa.ipynb\" target=\"_parent\"><img src=\"https://colab.research.google.com/assets/colab-badge.svg\" alt=\"Open In Colab\"/></a>"
      ]
    },
    {
      "cell_type": "code",
      "execution_count": null,
      "metadata": {
        "colab": {
          "base_uri": "https://localhost:8080/"
        },
        "id": "A0io5ffbkLXn",
        "outputId": "e380b6c4-5fa6-4d56-f654-24ebc41609a2"
      },
      "outputs": [
        {
          "output_type": "stream",
          "name": "stdout",
          "text": [
            "244.92000000000002\n"
          ]
        }
      ],
      "source": [
        "pi = 3.14\n",
        "r = 3\n",
        "h = 10\n",
        "\n",
        "Area = 2*pi*r*r + 2*pi*r*h\n",
        "print(Area)"
      ]
    },
    {
      "cell_type": "code",
      "source": [
        "import random\n",
        "play_the_game = input('Do you want to play? Yes or no: ')\n",
        "while play_the_game == 'Yes' :\n",
        "\n",
        "  p1 = input(\"choose rock, paper, scissors: \")\n",
        "  p2 = random.choice(['rock','paper','scissors'])\n",
        "\n",
        "  if p1==p2:\n",
        "    print('Draw')\n",
        "\n",
        "  elif p1=='rock' and p2=='scissors':\n",
        "    print('p1 wins')\n",
        "\n",
        "  elif p1=='rock' and p2=='paper':\n",
        "    print('p2 wins')\n",
        "\n",
        "  elif p1=='paper' and p2=='rock':\n",
        "    print('p1 wins')\n",
        "\n",
        "  elif p1=='paper' and p2=='scissors':\n",
        "    print('p2 wins')\n",
        "\n",
        "  elif p1=='scissors' and p2=='rock':\n",
        "    print('p2 wins')\n",
        "\n",
        "  elif p1=='scissors' and p2=='paper':\n",
        "    print('p1 wins')\n",
        "\n",
        "  play_the_game == input('Do you want to play? Yes or no: ')\n",
        "\n"
      ],
      "metadata": {
        "colab": {
          "base_uri": "https://localhost:8080/"
        },
        "id": "70Pf0gqWsWhI",
        "outputId": "45be0e60-31f0-482b-8820-1c210bd8b6c1"
      },
      "execution_count": null,
      "outputs": [
        {
          "name": "stdout",
          "output_type": "stream",
          "text": [
            "Do you want to play? Yes or no: Yes\n",
            "choose rock, paper, scissors: rock\n",
            "p1 wins\n",
            "Do you want to play? Yes or no: no\n"
          ]
        }
      ]
    },
    {
      "cell_type": "code",
      "source": [
        "N1= float(input(\"Number: \"))\n",
        "N2= float(input(\"Number: \"))\n",
        "Symbol = input('Operation (+, -, *, /, **): ')\n",
        "\n",
        "if(Symbol=='+'):\n",
        "  print(N1+N2)\n",
        "\n",
        "elif(Symbol=='-'):\n",
        "  print(N1-N2)\n",
        "\n",
        "elif(Symbol=='*'):\n",
        "  print(N1*N2)\n",
        "\n",
        "elif(Symbol=='/'):\n",
        "  print(N1/N2)\n",
        "\n",
        "elif(Symbol=='**'):\n",
        "  print(N1**N2)"
      ],
      "metadata": {
        "colab": {
          "base_uri": "https://localhost:8080/"
        },
        "id": "qmwAQo_X5ACk",
        "outputId": "d380c8a8-2d5b-4779-9b97-95b069693278"
      },
      "execution_count": null,
      "outputs": [
        {
          "output_type": "stream",
          "name": "stdout",
          "text": [
            "Number: 4\n",
            "Number: 5\n",
            "Operation (+, -, *, /, **): +\n",
            "9.0\n"
          ]
        }
      ]
    }
  ]
}